{
 "cells": [
  {
   "cell_type": "code",
   "execution_count": 155,
   "id": "a030ddc6-48b1-46a5-867e-ca40ed9877cb",
   "metadata": {},
   "outputs": [],
   "source": [
    "import pandas as pd\n",
    "import matplotlib.pyplot as plt\n",
    "import seaborn as sns\n",
    "from scipy import stats\n"
   ]
  },
  {
   "cell_type": "code",
   "execution_count": 156,
   "id": "e85efc02-265b-40f4-8367-d98a10c119c6",
   "metadata": {},
   "outputs": [],
   "source": [
    "from plotly.tools import FigureFactory as FF"
   ]
  },
  {
   "cell_type": "code",
   "execution_count": 163,
   "id": "c95ff707-0c3d-417f-9da3-b8b3bdbde706",
   "metadata": {},
   "outputs": [],
   "source": [
    "data=pd.read_csv('/Users/chinthotinaveen/Desktop/PDS_Assignment/Question_1/clean_data/clean_data.csv')"
   ]
  },
  {
   "cell_type": "code",
   "execution_count": 164,
   "id": "54440972-8959-4368-8667-f759ab9bb8f3",
   "metadata": {},
   "outputs": [
    {
     "data": {
      "text/html": [
       "<div>\n",
       "<style scoped>\n",
       "    .dataframe tbody tr th:only-of-type {\n",
       "        vertical-align: middle;\n",
       "    }\n",
       "\n",
       "    .dataframe tbody tr th {\n",
       "        vertical-align: top;\n",
       "    }\n",
       "\n",
       "    .dataframe thead th {\n",
       "        text-align: right;\n",
       "    }\n",
       "</style>\n",
       "<table border=\"1\" class=\"dataframe\">\n",
       "  <thead>\n",
       "    <tr style=\"text-align: right;\">\n",
       "      <th></th>\n",
       "      <th>Unnamed: 0</th>\n",
       "      <th>Height(in)</th>\n",
       "      <th>Weight(lb)</th>\n",
       "      <th>Age</th>\n",
       "      <th>Grip_strength(kg)</th>\n",
       "      <th>Frailty</th>\n",
       "    </tr>\n",
       "  </thead>\n",
       "  <tbody>\n",
       "    <tr>\n",
       "      <th>0</th>\n",
       "      <td>0</td>\n",
       "      <td>65.8</td>\n",
       "      <td>112</td>\n",
       "      <td>30</td>\n",
       "      <td>30</td>\n",
       "      <td>1</td>\n",
       "    </tr>\n",
       "    <tr>\n",
       "      <th>1</th>\n",
       "      <td>1</td>\n",
       "      <td>71.5</td>\n",
       "      <td>136</td>\n",
       "      <td>19</td>\n",
       "      <td>31</td>\n",
       "      <td>1</td>\n",
       "    </tr>\n",
       "    <tr>\n",
       "      <th>2</th>\n",
       "      <td>2</td>\n",
       "      <td>69.4</td>\n",
       "      <td>153</td>\n",
       "      <td>45</td>\n",
       "      <td>29</td>\n",
       "      <td>1</td>\n",
       "    </tr>\n",
       "    <tr>\n",
       "      <th>3</th>\n",
       "      <td>3</td>\n",
       "      <td>68.2</td>\n",
       "      <td>142</td>\n",
       "      <td>22</td>\n",
       "      <td>28</td>\n",
       "      <td>0</td>\n",
       "    </tr>\n",
       "    <tr>\n",
       "      <th>4</th>\n",
       "      <td>4</td>\n",
       "      <td>67.8</td>\n",
       "      <td>144</td>\n",
       "      <td>29</td>\n",
       "      <td>24</td>\n",
       "      <td>0</td>\n",
       "    </tr>\n",
       "    <tr>\n",
       "      <th>5</th>\n",
       "      <td>5</td>\n",
       "      <td>68.7</td>\n",
       "      <td>123</td>\n",
       "      <td>50</td>\n",
       "      <td>26</td>\n",
       "      <td>1</td>\n",
       "    </tr>\n",
       "    <tr>\n",
       "      <th>6</th>\n",
       "      <td>6</td>\n",
       "      <td>69.8</td>\n",
       "      <td>141</td>\n",
       "      <td>51</td>\n",
       "      <td>22</td>\n",
       "      <td>0</td>\n",
       "    </tr>\n",
       "    <tr>\n",
       "      <th>7</th>\n",
       "      <td>7</td>\n",
       "      <td>70.1</td>\n",
       "      <td>136</td>\n",
       "      <td>23</td>\n",
       "      <td>20</td>\n",
       "      <td>0</td>\n",
       "    </tr>\n",
       "    <tr>\n",
       "      <th>8</th>\n",
       "      <td>8</td>\n",
       "      <td>67.9</td>\n",
       "      <td>112</td>\n",
       "      <td>17</td>\n",
       "      <td>19</td>\n",
       "      <td>1</td>\n",
       "    </tr>\n",
       "    <tr>\n",
       "      <th>9</th>\n",
       "      <td>9</td>\n",
       "      <td>66.8</td>\n",
       "      <td>120</td>\n",
       "      <td>39</td>\n",
       "      <td>31</td>\n",
       "      <td>1</td>\n",
       "    </tr>\n",
       "  </tbody>\n",
       "</table>\n",
       "</div>"
      ],
      "text/plain": [
       "   Unnamed: 0  Height(in)  Weight(lb)  Age  Grip_strength(kg)  Frailty\n",
       "0           0        65.8         112   30                 30        1\n",
       "1           1        71.5         136   19                 31        1\n",
       "2           2        69.4         153   45                 29        1\n",
       "3           3        68.2         142   22                 28        0\n",
       "4           4        67.8         144   29                 24        0\n",
       "5           5        68.7         123   50                 26        1\n",
       "6           6        69.8         141   51                 22        0\n",
       "7           7        70.1         136   23                 20        0\n",
       "8           8        67.9         112   17                 19        1\n",
       "9           9        66.8         120   39                 31        1"
      ]
     },
     "execution_count": 164,
     "metadata": {},
     "output_type": "execute_result"
    }
   ],
   "source": [
    "data"
   ]
  },
  {
   "cell_type": "code",
   "execution_count": 165,
   "id": "bdb07823-4d21-48b8-b212-a5e733d8437c",
   "metadata": {},
   "outputs": [
    {
     "name": "stdout",
     "output_type": "stream",
     "text": [
      "analysis: Ttest_indResult(statistic=29.155389914737384, pvalue=1.3273210493059615e-16)\n"
     ]
    }
   ],
   "source": [
    "#Performing the 2 sample t-test \n",
    "t2_test = stats.ttest_ind(data['Weight(lb)'],data['Frailty'])\n",
    "print('analysis:',t2)"
   ]
  },
  {
   "cell_type": "code",
   "execution_count": 166,
   "id": "50ea0220-8dd8-4ca7-8ddc-375cf8bf1f28",
   "metadata": {},
   "outputs": [
    {
     "data": {
      "image/png": "[encoded data removed]",
      "text/plain": [
       "<Figure size 640x480 with 1 Axes>"
      ]
     },
     "metadata": {},
     "output_type": "display_data"
    }
   ],
   "source": [
    "sns.boxplot(t2)\n",
    "plt.savefig('/Users/chinthotinaveen/Desktop/PDS_Assignment/Question_1/analysis_result/ttest_result.png')"
   ]
  },
  {
   "cell_type": "code",
   "execution_count": 161,
   "id": "adf88b62-fe6c-481a-b101-d7ac065a08eb",
   "metadata": {},
   "outputs": [
    {
     "data": {
      "image/png": "[encoded data removed]",
      "text/plain": [
       "<Figure size 640x480 with 1 Axes>"
      ]
     },
     "metadata": {},
     "output_type": "display_data"
    }
   ],
   "source": [
    "#creating a box plot graph with the X-axis having Frailty and the Y-axis having Grip strength data.\n",
    "\n",
    "\n",
    "\n",
    "sns.boxplot(x = data['Frailty'],\n",
    "            y = data['Grip_strength(kg)'])\n",
    "plt.savefig('/Users/chinthotinaveen/Desktop/PDS_Assignment/Question_1/analysis_result/result.png')"
   ]
  },
  {
   "cell_type": "code",
   "execution_count": 162,
   "id": "7821c049-b3a6-4c6d-8dc4-d632259c94c4",
   "metadata": {},
   "outputs": [],
   "source": [
    "# Results\n",
    "\n",
    "#from the above Representation we can found that the greater the GripStrenght, the stronger the individual person."
   ]
  },
  {
   "cell_type": "code",
   "execution_count": null,
   "id": "3fd3e15c-7320-4a08-800a-f01b42d6bde3",
   "metadata": {},
   "outputs": [],
   "source": []
  }
 ],
 "metadata": {
  "kernelspec": {
   "display_name": "Python 3 (ipykernel)",
   "language": "python",
   "name": "python3"
  },
  "language_info": {
   "codemirror_mode": {
    "name": "ipython",
    "version": 3
   },
   "file_extension": ".py",
   "mimetype": "text/x-python",
   "name": "python",
   "nbconvert_exporter": "python",
   "pygments_lexer": "ipython3",
   "version": "3.8.16"
  }
 },
 "nbformat": 4,
 "nbformat_minor": 5
}
